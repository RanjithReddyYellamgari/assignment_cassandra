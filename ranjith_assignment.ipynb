{
 "cells": [
  {
   "cell_type": "markdown",
   "metadata": {},
   "source": [
    "IMPORT PACKAGES"
   ]
  },
  {
   "cell_type": "code",
   "execution_count": 53,
   "metadata": {},
   "outputs": [],
   "source": [
    "import pandas as pd\n",
    "from cassandra.cluster import Cluster"
   ]
  },
  {
   "cell_type": "markdown",
   "metadata": {},
   "source": [
    "CREATE A SESSION CONNECTION TO CASSANDRA CLUSTER"
   ]
  },
  {
   "cell_type": "code",
   "execution_count": 54,
   "metadata": {},
   "outputs": [],
   "source": [
    "clstr = Cluster()\n",
    "session = clstr.connect()"
   ]
  },
  {
   "cell_type": "markdown",
   "metadata": {},
   "source": [
    "USE SESSION TO TALK TO CASSANDRA"
   ]
  },
  {
   "cell_type": "code",
   "execution_count": 57,
   "metadata": {},
   "outputs": [
    {
     "data": {
      "text/plain": [
       "<cassandra.cluster.ResultSet at 0x7f0068151180>"
      ]
     },
     "execution_count": 57,
     "metadata": {},
     "output_type": "execute_result"
    }
   ],
   "source": [
    "session.execute(\"DROP KEYSPACE IF EXISTS m14\")"
   ]
  },
  {
   "cell_type": "code",
   "execution_count": 58,
   "metadata": {},
   "outputs": [
    {
     "name": "stdout",
     "output_type": "stream",
     "text": [
      "system\n",
      "system_auth\n",
      "system_distributed\n",
      "system_schema\n",
      "system_traces\n",
      "system_views\n",
      "system_virtual_schema\n"
     ]
    }
   ],
   "source": [
    "rows = session.execute(\"desc keyspaces\")\n",
    "for row in rows:\n",
    "    print(f\"{row[0]}\")"
   ]
  },
  {
   "cell_type": "code",
   "execution_count": 60,
   "metadata": {},
   "outputs": [
    {
     "data": {
      "text/plain": [
       "<cassandra.cluster.ResultSet at 0x7f00682c6c50>"
      ]
     },
     "execution_count": 60,
     "metadata": {},
     "output_type": "execute_result"
    }
   ],
   "source": [
    "session.execute(\"\"\"\n",
    "    CREATE KEYSPACE IF NOT EXISTS m14 WITH REPLICATION = {\n",
    "        'class':'SimpleStrategy', \n",
    "        'replication_factor':2\n",
    "    }\n",
    "\"\"\")"
   ]
  },
  {
   "cell_type": "code",
   "execution_count": 61,
   "metadata": {},
   "outputs": [
    {
     "name": "stdout",
     "output_type": "stream",
     "text": [
      "m14\n",
      "system\n",
      "system_auth\n",
      "system_distributed\n",
      "system_schema\n",
      "system_traces\n",
      "system_views\n",
      "system_virtual_schema\n",
      "w04python\n"
     ]
    }
   ],
   "source": [
    "rows = session.execute(\"desc keyspaces\")\n",
    "for row in rows:\n",
    "    print(f\"{row[0]}\")"
   ]
  },
  {
   "cell_type": "markdown",
   "metadata": {},
   "source": [
    "CREATE A TABLE FOR TESTING\n"
   ]
  },
  {
   "cell_type": "code",
   "execution_count": 62,
   "metadata": {},
   "outputs": [
    {
     "data": {
      "text/plain": [
       "<cassandra.cluster.ResultSet at 0x7f0068295840>"
      ]
     },
     "execution_count": 62,
     "metadata": {},
     "output_type": "execute_result"
    }
   ],
   "source": [
    "session.execute(\"\"\"\n",
    "CREATE TABLE IF NOT EXISTS m14.inventory (\n",
    "    sku TEXT, \n",
    "    name TEXT, \n",
    "    description TEXT, \n",
    "    warehouse_num INT,\n",
    "    PRIMARY KEY(sku, warehouse_num)\n",
    ");\n",
    "\"\"\")"
   ]
  },
  {
   "cell_type": "markdown",
   "metadata": {},
   "source": [
    "LOAD DATA"
   ]
  },
  {
   "cell_type": "code",
   "execution_count": 63,
   "metadata": {},
   "outputs": [],
   "source": [
    "warehouse_data = [\n",
    "    (\"RRY001\", \"REFRIGIRATOR\", \"whirlpool\", 9),\n",
    "    (\"RRY002\", \"Mattress\", \"zinus\", 7),\n",
    "    (\"RRY003\", \"laptop\", \"lenovo\", 5),\n",
    "    (\"RRY004\", \"camera\", \"SONY\", 4),\n",
    "    (\"RRY005\", \"shoes\", \"NIKE JORDAN\", 3),\n",
    "    (\"RRY006\", \"pillow\", \"zinus\", 2),\n",
    "    (\"RRY007\", \"headphones\", \"Apple Airpods\", 1),\n",
    "    (\"RRY008\", \"coffee\", \"Starbucks\", 4),\n",
    "    (\"RRY009\", \"Tyres\", \"Apollo\", 11),\n",
    "    (\"RRY010\", \"Air Conditioner\", \"Llyod\", 7)\n",
    "]\n",
    "for entry in warehouse_data:\n",
    "    insert_query = \"\"\"\n",
    "    INSERT INTO m14.inventory (sku, name, description, warehouse_num)\n",
    "    VALUES (%s, %s, %s, %s)\n",
    "    \"\"\"\n",
    "    session.execute(insert_query, entry)\n",
    "\n",
    "    "
   ]
  },
  {
   "cell_type": "markdown",
   "metadata": {},
   "source": [
    "QUERY TO FETCH RECORDS"
   ]
  },
  {
   "cell_type": "code",
   "execution_count": 64,
   "metadata": {},
   "outputs": [
    {
     "name": "stdout",
     "output_type": "stream",
     "text": [
      "sku\t\tname\t\tdescription\t\twarehouse_num\n",
      "--------------------------------------------------------------------------------\n",
      "RRY004\t\tcamera\t\tSONY\t\t4\n",
      "RRY006\t\tpillow\t\tzinus\t\t2\n",
      "RRY007\t\theadphones\t\tApple Airpods\t\t1\n",
      "RRY008\t\tcoffee\t\tStarbucks\t\t4\n",
      "RRY010\t\tAir Conditioner\t\tLlyod\t\t7\n",
      "RRY005\t\tshoes\t\tNIKE JORDAN\t\t3\n",
      "RRY002\t\tMattress\t\tzinus\t\t7\n",
      "RRY003\t\tlaptop\t\tlenovo\t\t5\n",
      "RRY001\t\tREFRIGIRATOR\t\twhirlpool\t\t9\n",
      "RRY009\t\tTyres\t\tApollo\t\t11\n"
     ]
    }
   ],
   "source": [
    "\n",
    "query = \"SELECT * FROM m14.inventory\"\n",
    "rows = session.execute(query)\n",
    "\n",
    "# Print the data\n",
    "print(\"sku\\t\\tname\\t\\tdescription\\t\\twarehouse_num\")\n",
    "print(\"-\" * 80)  # just a separator line\n",
    "for row in rows:\n",
    "    print(f\"{row.sku}\\t\\t{row.name}\\t\\t{row.description}\\t\\t{row.warehouse_num}\")\n"
   ]
  },
  {
   "cell_type": "code",
   "execution_count": 73,
   "metadata": {},
   "outputs": [
    {
     "name": "stdout",
     "output_type": "stream",
     "text": [
      "RRY010, Air Conditioner, Llyod, 7\n",
      "RRY002, Mattress, zinus, 7\n"
     ]
    }
   ],
   "source": [
    "rows = session.execute(\"SELECT (sku, name, description, warehouse_num) FROM m14.inventory WHERE warehouse_num = 7 ALLOW FILTERING\")\n",
    "for row in rows:\n",
    "    print(f\"{row[0][0]}, {row[0][1]}, {row[0][2]}, {row[0][3]}\")"
   ]
  },
  {
   "cell_type": "markdown",
   "metadata": {},
   "source": [
    "INDEXING"
   ]
  },
  {
   "cell_type": "code",
   "execution_count": 74,
   "metadata": {},
   "outputs": [
    {
     "data": {
      "text/plain": [
       "<cassandra.cluster.ResultSet at 0x7f006823fd30>"
      ]
     },
     "execution_count": 74,
     "metadata": {},
     "output_type": "execute_result"
    }
   ],
   "source": [
    "session.execute(\"\"\"\n",
    "CREATE INDEX IF NOT EXISTS warehouse_num\n",
    "ON m14.inventory (warehouse_num);\n",
    "\"\"\")"
   ]
  },
  {
   "cell_type": "code",
   "execution_count": 75,
   "metadata": {},
   "outputs": [
    {
     "name": "stdout",
     "output_type": "stream",
     "text": [
      "RRY007, headphones, Apple Airpods, 1\n"
     ]
    }
   ],
   "source": [
    "rows = session.execute(\"SELECT (sku, name, description, warehouse_num) FROM m14.inventory WHERE warehouse_num = 1 \")\n",
    "for row in rows:\n",
    "    print(f\"{row[0][0]}, {row[0][1]}, {row[0][2]}, {row[0][3]}\")"
   ]
  }
 ],
 "metadata": {
  "kernelspec": {
   "display_name": "base",
   "language": "python",
   "name": "python3"
  },
  "language_info": {
   "codemirror_mode": {
    "name": "ipython",
    "version": 3
   },
   "file_extension": ".py",
   "mimetype": "text/x-python",
   "name": "python",
   "nbconvert_exporter": "python",
   "pygments_lexer": "ipython3",
   "version": "3.10.13"
  },
  "orig_nbformat": 4
 },
 "nbformat": 4,
 "nbformat_minor": 2
}
